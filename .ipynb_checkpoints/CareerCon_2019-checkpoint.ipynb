{
 "cells": [
  {
   "cell_type": "markdown",
   "metadata": {},
   "source": [
    "# CareerCon 2019\n",
    "Okay so I am entering this competitition so I will be making a detailed documentation as well. Let's first see what our data looks like and do some simple data visualization."
   ]
  },
  {
   "cell_type": "code",
   "execution_count": 13,
   "metadata": {},
   "outputs": [],
   "source": [
    "#Imports\n",
    "import numpy as np\n",
    "import pandas as pd\n",
    "\n",
    "%matplotlib inline\n",
    "import matplotlib.pyplot as plt\n",
    "\n",
    "from tensorflow.python.keras.layers import Dense, BatchNormalization\n",
    "from tensorflow.python.keras.models import Sequential"
   ]
  },
  {
   "cell_type": "code",
   "execution_count": 14,
   "metadata": {},
   "outputs": [],
   "source": [
    "X = pd.read_csv(\"./Data/X_train.csv\")\n",
    "y = pd.read_csv(\"./Data/y_train.csv\")\n",
    "X_test = pd.read_csv(\"./Data/X_test.csv\")"
   ]
  },
  {
   "cell_type": "code",
   "execution_count": 15,
   "metadata": {},
   "outputs": [
    {
     "data": {
      "text/html": [
       "<div>\n",
       "<style scoped>\n",
       "    .dataframe tbody tr th:only-of-type {\n",
       "        vertical-align: middle;\n",
       "    }\n",
       "\n",
       "    .dataframe tbody tr th {\n",
       "        vertical-align: top;\n",
       "    }\n",
       "\n",
       "    .dataframe thead th {\n",
       "        text-align: right;\n",
       "    }\n",
       "</style>\n",
       "<table border=\"1\" class=\"dataframe\">\n",
       "  <thead>\n",
       "    <tr style=\"text-align: right;\">\n",
       "      <th></th>\n",
       "      <th>row_id</th>\n",
       "      <th>series_id</th>\n",
       "      <th>measurement_number</th>\n",
       "      <th>orientation_X</th>\n",
       "      <th>orientation_Y</th>\n",
       "      <th>orientation_Z</th>\n",
       "      <th>orientation_W</th>\n",
       "      <th>angular_velocity_X</th>\n",
       "      <th>angular_velocity_Y</th>\n",
       "      <th>angular_velocity_Z</th>\n",
       "      <th>linear_acceleration_X</th>\n",
       "      <th>linear_acceleration_Y</th>\n",
       "      <th>linear_acceleration_Z</th>\n",
       "    </tr>\n",
       "  </thead>\n",
       "  <tbody>\n",
       "    <tr>\n",
       "      <th>0</th>\n",
       "      <td>0_0</td>\n",
       "      <td>0</td>\n",
       "      <td>0</td>\n",
       "      <td>-0.75853</td>\n",
       "      <td>-0.63435</td>\n",
       "      <td>-0.10488</td>\n",
       "      <td>-0.10597</td>\n",
       "      <td>0.107650</td>\n",
       "      <td>0.017561</td>\n",
       "      <td>0.000767</td>\n",
       "      <td>-0.74857</td>\n",
       "      <td>2.1030</td>\n",
       "      <td>-9.7532</td>\n",
       "    </tr>\n",
       "    <tr>\n",
       "      <th>1</th>\n",
       "      <td>0_1</td>\n",
       "      <td>0</td>\n",
       "      <td>1</td>\n",
       "      <td>-0.75853</td>\n",
       "      <td>-0.63434</td>\n",
       "      <td>-0.10490</td>\n",
       "      <td>-0.10600</td>\n",
       "      <td>0.067851</td>\n",
       "      <td>0.029939</td>\n",
       "      <td>0.003385</td>\n",
       "      <td>0.33995</td>\n",
       "      <td>1.5064</td>\n",
       "      <td>-9.4128</td>\n",
       "    </tr>\n",
       "    <tr>\n",
       "      <th>2</th>\n",
       "      <td>0_2</td>\n",
       "      <td>0</td>\n",
       "      <td>2</td>\n",
       "      <td>-0.75853</td>\n",
       "      <td>-0.63435</td>\n",
       "      <td>-0.10492</td>\n",
       "      <td>-0.10597</td>\n",
       "      <td>0.007275</td>\n",
       "      <td>0.028934</td>\n",
       "      <td>-0.005978</td>\n",
       "      <td>-0.26429</td>\n",
       "      <td>1.5922</td>\n",
       "      <td>-8.7267</td>\n",
       "    </tr>\n",
       "    <tr>\n",
       "      <th>3</th>\n",
       "      <td>0_3</td>\n",
       "      <td>0</td>\n",
       "      <td>3</td>\n",
       "      <td>-0.75852</td>\n",
       "      <td>-0.63436</td>\n",
       "      <td>-0.10495</td>\n",
       "      <td>-0.10597</td>\n",
       "      <td>-0.013053</td>\n",
       "      <td>0.019448</td>\n",
       "      <td>-0.008974</td>\n",
       "      <td>0.42684</td>\n",
       "      <td>1.0993</td>\n",
       "      <td>-10.0960</td>\n",
       "    </tr>\n",
       "    <tr>\n",
       "      <th>4</th>\n",
       "      <td>0_4</td>\n",
       "      <td>0</td>\n",
       "      <td>4</td>\n",
       "      <td>-0.75852</td>\n",
       "      <td>-0.63435</td>\n",
       "      <td>-0.10495</td>\n",
       "      <td>-0.10596</td>\n",
       "      <td>0.005135</td>\n",
       "      <td>0.007652</td>\n",
       "      <td>0.005245</td>\n",
       "      <td>-0.50969</td>\n",
       "      <td>1.4689</td>\n",
       "      <td>-10.4410</td>\n",
       "    </tr>\n",
       "  </tbody>\n",
       "</table>\n",
       "</div>"
      ],
      "text/plain": [
       "  row_id  series_id  measurement_number  orientation_X  orientation_Y  \\\n",
       "0    0_0          0                   0       -0.75853       -0.63435   \n",
       "1    0_1          0                   1       -0.75853       -0.63434   \n",
       "2    0_2          0                   2       -0.75853       -0.63435   \n",
       "3    0_3          0                   3       -0.75852       -0.63436   \n",
       "4    0_4          0                   4       -0.75852       -0.63435   \n",
       "\n",
       "   orientation_Z  orientation_W  angular_velocity_X  angular_velocity_Y  \\\n",
       "0       -0.10488       -0.10597            0.107650            0.017561   \n",
       "1       -0.10490       -0.10600            0.067851            0.029939   \n",
       "2       -0.10492       -0.10597            0.007275            0.028934   \n",
       "3       -0.10495       -0.10597           -0.013053            0.019448   \n",
       "4       -0.10495       -0.10596            0.005135            0.007652   \n",
       "\n",
       "   angular_velocity_Z  linear_acceleration_X  linear_acceleration_Y  \\\n",
       "0            0.000767               -0.74857                 2.1030   \n",
       "1            0.003385                0.33995                 1.5064   \n",
       "2           -0.005978               -0.26429                 1.5922   \n",
       "3           -0.008974                0.42684                 1.0993   \n",
       "4            0.005245               -0.50969                 1.4689   \n",
       "\n",
       "   linear_acceleration_Z  \n",
       "0                -9.7532  \n",
       "1                -9.4128  \n",
       "2                -8.7267  \n",
       "3               -10.0960  \n",
       "4               -10.4410  "
      ]
     },
     "metadata": {},
     "output_type": "display_data"
    },
    {
     "name": "stdout",
     "output_type": "stream",
     "text": [
      "(487680, 13)\n"
     ]
    }
   ],
   "source": [
    "display(X.head())\n",
    "print(X.shape)"
   ]
  },
  {
   "cell_type": "code",
   "execution_count": 16,
   "metadata": {},
   "outputs": [
    {
     "data": {
      "text/html": [
       "<div>\n",
       "<style scoped>\n",
       "    .dataframe tbody tr th:only-of-type {\n",
       "        vertical-align: middle;\n",
       "    }\n",
       "\n",
       "    .dataframe tbody tr th {\n",
       "        vertical-align: top;\n",
       "    }\n",
       "\n",
       "    .dataframe thead th {\n",
       "        text-align: right;\n",
       "    }\n",
       "</style>\n",
       "<table border=\"1\" class=\"dataframe\">\n",
       "  <thead>\n",
       "    <tr style=\"text-align: right;\">\n",
       "      <th></th>\n",
       "      <th>series_id</th>\n",
       "      <th>group_id</th>\n",
       "      <th>surface</th>\n",
       "    </tr>\n",
       "  </thead>\n",
       "  <tbody>\n",
       "    <tr>\n",
       "      <th>0</th>\n",
       "      <td>0</td>\n",
       "      <td>13</td>\n",
       "      <td>fine_concrete</td>\n",
       "    </tr>\n",
       "    <tr>\n",
       "      <th>1</th>\n",
       "      <td>1</td>\n",
       "      <td>31</td>\n",
       "      <td>concrete</td>\n",
       "    </tr>\n",
       "    <tr>\n",
       "      <th>2</th>\n",
       "      <td>2</td>\n",
       "      <td>20</td>\n",
       "      <td>concrete</td>\n",
       "    </tr>\n",
       "    <tr>\n",
       "      <th>3</th>\n",
       "      <td>3</td>\n",
       "      <td>31</td>\n",
       "      <td>concrete</td>\n",
       "    </tr>\n",
       "    <tr>\n",
       "      <th>4</th>\n",
       "      <td>4</td>\n",
       "      <td>22</td>\n",
       "      <td>soft_tiles</td>\n",
       "    </tr>\n",
       "  </tbody>\n",
       "</table>\n",
       "</div>"
      ],
      "text/plain": [
       "   series_id  group_id        surface\n",
       "0          0        13  fine_concrete\n",
       "1          1        31       concrete\n",
       "2          2        20       concrete\n",
       "3          3        31       concrete\n",
       "4          4        22     soft_tiles"
      ]
     },
     "metadata": {},
     "output_type": "display_data"
    },
    {
     "name": "stdout",
     "output_type": "stream",
     "text": [
      "(3810, 3)\n"
     ]
    }
   ],
   "source": [
    "display(y.head())\n",
    "print(y.shape)"
   ]
  },
  {
   "cell_type": "markdown",
   "metadata": {},
   "source": [
    "Lets combine X_train and y_train dataframes together."
   ]
  },
  {
   "cell_type": "code",
   "execution_count": 17,
   "metadata": {},
   "outputs": [],
   "source": [
    "data = X.copy()"
   ]
  },
  {
   "cell_type": "code",
   "execution_count": 18,
   "metadata": {},
   "outputs": [
    {
     "name": "stdout",
     "output_type": "stream",
     "text": [
      "Finished 1000/3810 series\n",
      "Finished 2000/3810 series\n",
      "Finished 3000/3810 series\n",
      "Complete\n"
     ]
    }
   ],
   "source": [
    "for i in range(3810):\n",
    "    if i % 1000 == 0 and i != 0:\n",
    "        print(\"Finished {}/{} series\".format(i,3810))\n",
    "    data.loc[data['series_id'] == i, 'surface'] = y.loc[y['series_id'] == i, 'surface'].values[0]\n",
    "print(\"Complete\")"
   ]
  },
  {
   "cell_type": "code",
   "execution_count": 19,
   "metadata": {},
   "outputs": [
    {
     "data": {
      "text/html": [
       "<div>\n",
       "<style scoped>\n",
       "    .dataframe tbody tr th:only-of-type {\n",
       "        vertical-align: middle;\n",
       "    }\n",
       "\n",
       "    .dataframe tbody tr th {\n",
       "        vertical-align: top;\n",
       "    }\n",
       "\n",
       "    .dataframe thead th {\n",
       "        text-align: right;\n",
       "    }\n",
       "</style>\n",
       "<table border=\"1\" class=\"dataframe\">\n",
       "  <thead>\n",
       "    <tr style=\"text-align: right;\">\n",
       "      <th></th>\n",
       "      <th>row_id</th>\n",
       "      <th>series_id</th>\n",
       "      <th>measurement_number</th>\n",
       "      <th>orientation_X</th>\n",
       "      <th>orientation_Y</th>\n",
       "      <th>orientation_Z</th>\n",
       "      <th>orientation_W</th>\n",
       "      <th>angular_velocity_X</th>\n",
       "      <th>angular_velocity_Y</th>\n",
       "      <th>angular_velocity_Z</th>\n",
       "      <th>linear_acceleration_X</th>\n",
       "      <th>linear_acceleration_Y</th>\n",
       "      <th>linear_acceleration_Z</th>\n",
       "      <th>surface</th>\n",
       "      <th>orientation_mag</th>\n",
       "      <th>angular_velocity_mag</th>\n",
       "      <th>linear_acceleration_mag</th>\n",
       "    </tr>\n",
       "  </thead>\n",
       "  <tbody>\n",
       "    <tr>\n",
       "      <th>0</th>\n",
       "      <td>2821_53</td>\n",
       "      <td>2821</td>\n",
       "      <td>53</td>\n",
       "      <td>-0.26148</td>\n",
       "      <td>0.95358</td>\n",
       "      <td>0.142700</td>\n",
       "      <td>-0.044207</td>\n",
       "      <td>0.051148</td>\n",
       "      <td>-0.035061</td>\n",
       "      <td>0.023948</td>\n",
       "      <td>-2.70410</td>\n",
       "      <td>2.5519</td>\n",
       "      <td>-8.9533</td>\n",
       "      <td>fine_concrete</td>\n",
       "      <td>0.999024</td>\n",
       "      <td>0.066475</td>\n",
       "      <td>9.694634</td>\n",
       "    </tr>\n",
       "    <tr>\n",
       "      <th>1</th>\n",
       "      <td>532_27</td>\n",
       "      <td>532</td>\n",
       "      <td>27</td>\n",
       "      <td>-0.95456</td>\n",
       "      <td>0.25756</td>\n",
       "      <td>0.030872</td>\n",
       "      <td>-0.146700</td>\n",
       "      <td>0.099754</td>\n",
       "      <td>0.118090</td>\n",
       "      <td>-0.150450</td>\n",
       "      <td>-0.28532</td>\n",
       "      <td>7.8315</td>\n",
       "      <td>-6.2200</td>\n",
       "      <td>wood</td>\n",
       "      <td>0.989179</td>\n",
       "      <td>0.215711</td>\n",
       "      <td>10.005109</td>\n",
       "    </tr>\n",
       "    <tr>\n",
       "      <th>2</th>\n",
       "      <td>2325_121</td>\n",
       "      <td>2325</td>\n",
       "      <td>121</td>\n",
       "      <td>-0.76254</td>\n",
       "      <td>0.62947</td>\n",
       "      <td>0.090446</td>\n",
       "      <td>-0.118870</td>\n",
       "      <td>0.072278</td>\n",
       "      <td>-0.027139</td>\n",
       "      <td>-0.025409</td>\n",
       "      <td>-0.83923</td>\n",
       "      <td>4.3535</td>\n",
       "      <td>-9.3531</td>\n",
       "      <td>soft_pvc</td>\n",
       "      <td>0.992915</td>\n",
       "      <td>0.081279</td>\n",
       "      <td>10.350737</td>\n",
       "    </tr>\n",
       "    <tr>\n",
       "      <th>3</th>\n",
       "      <td>1491_37</td>\n",
       "      <td>1491</td>\n",
       "      <td>37</td>\n",
       "      <td>0.91779</td>\n",
       "      <td>0.36814</td>\n",
       "      <td>0.059764</td>\n",
       "      <td>0.136220</td>\n",
       "      <td>0.058134</td>\n",
       "      <td>-0.030917</td>\n",
       "      <td>0.049745</td>\n",
       "      <td>0.19611</td>\n",
       "      <td>3.3452</td>\n",
       "      <td>-9.1789</td>\n",
       "      <td>soft_tiles</td>\n",
       "      <td>0.990675</td>\n",
       "      <td>0.082523</td>\n",
       "      <td>9.771439</td>\n",
       "    </tr>\n",
       "    <tr>\n",
       "      <th>4</th>\n",
       "      <td>2709_111</td>\n",
       "      <td>2709</td>\n",
       "      <td>111</td>\n",
       "      <td>-0.55733</td>\n",
       "      <td>0.81622</td>\n",
       "      <td>0.123480</td>\n",
       "      <td>-0.089009</td>\n",
       "      <td>0.026779</td>\n",
       "      <td>0.136970</td>\n",
       "      <td>-0.522140</td>\n",
       "      <td>-2.07620</td>\n",
       "      <td>5.8291</td>\n",
       "      <td>-8.9658</td>\n",
       "      <td>fine_concrete</td>\n",
       "      <td>0.996032</td>\n",
       "      <td>0.540470</td>\n",
       "      <td>10.893786</td>\n",
       "    </tr>\n",
       "  </tbody>\n",
       "</table>\n",
       "</div>"
      ],
      "text/plain": [
       "     row_id  series_id  measurement_number  orientation_X  orientation_Y  \\\n",
       "0   2821_53       2821                  53       -0.26148        0.95358   \n",
       "1    532_27        532                  27       -0.95456        0.25756   \n",
       "2  2325_121       2325                 121       -0.76254        0.62947   \n",
       "3   1491_37       1491                  37        0.91779        0.36814   \n",
       "4  2709_111       2709                 111       -0.55733        0.81622   \n",
       "\n",
       "   orientation_Z  orientation_W  angular_velocity_X  angular_velocity_Y  \\\n",
       "0       0.142700      -0.044207            0.051148           -0.035061   \n",
       "1       0.030872      -0.146700            0.099754            0.118090   \n",
       "2       0.090446      -0.118870            0.072278           -0.027139   \n",
       "3       0.059764       0.136220            0.058134           -0.030917   \n",
       "4       0.123480      -0.089009            0.026779            0.136970   \n",
       "\n",
       "   angular_velocity_Z  linear_acceleration_X  linear_acceleration_Y  \\\n",
       "0            0.023948               -2.70410                 2.5519   \n",
       "1           -0.150450               -0.28532                 7.8315   \n",
       "2           -0.025409               -0.83923                 4.3535   \n",
       "3            0.049745                0.19611                 3.3452   \n",
       "4           -0.522140               -2.07620                 5.8291   \n",
       "\n",
       "   linear_acceleration_Z        surface  orientation_mag  \\\n",
       "0                -8.9533  fine_concrete         0.999024   \n",
       "1                -6.2200           wood         0.989179   \n",
       "2                -9.3531       soft_pvc         0.992915   \n",
       "3                -9.1789     soft_tiles         0.990675   \n",
       "4                -8.9658  fine_concrete         0.996032   \n",
       "\n",
       "   angular_velocity_mag  linear_acceleration_mag  \n",
       "0              0.066475                 9.694634  \n",
       "1              0.215711                10.005109  \n",
       "2              0.081279                10.350737  \n",
       "3              0.082523                 9.771439  \n",
       "4              0.540470                10.893786  "
      ]
     },
     "execution_count": 19,
     "metadata": {},
     "output_type": "execute_result"
    }
   ],
   "source": [
    "#A little feature engineering, include the magnitude for orientation, velocity and acceleration\n",
    "data['orientation_mag'] = np.sqrt(np.square(data['orientation_X']) + np.square(data['orientation_Y']) + np.square(data['orientation_Z']))\n",
    "data['angular_velocity_mag'] = np.sqrt(np.square(data['angular_velocity_X']) + np.square(data['angular_velocity_Y']) + np.square(data['angular_velocity_Z']))\n",
    "data['linear_acceleration_mag'] = np.sqrt(np.square(data['linear_acceleration_X']) + np.square(data['linear_acceleration_Y']) + np.square(data['linear_acceleration_Z']))\n",
    "\n",
    "#Shuffle the data\n",
    "data = data.sample(frac=1).reset_index(drop=True)\n",
    "data.head()"
   ]
  },
  {
   "cell_type": "code",
   "execution_count": 42,
   "metadata": {},
   "outputs": [
    {
     "data": {
      "text/plain": [
       "concrete                  99712\n",
       "soft_pvc                  93696\n",
       "wood                      77696\n",
       "tiled                     65792\n",
       "fine_concrete             46464\n",
       "hard_tiles_large_space    39424\n",
       "soft_tiles                38016\n",
       "carpet                    24192\n",
       "hard_tiles                 2688\n",
       "Name: surface, dtype: int64"
      ]
     },
     "execution_count": 42,
     "metadata": {},
     "output_type": "execute_result"
    }
   ],
   "source": [
    "#Is the data skewed? Lets see\n",
    "data['surface'].value_counts()"
   ]
  },
  {
   "cell_type": "code",
   "execution_count": 20,
   "metadata": {},
   "outputs": [
    {
     "data": {
      "text/plain": [
       "(487680, 9)"
      ]
     },
     "execution_count": 20,
     "metadata": {},
     "output_type": "execute_result"
    }
   ],
   "source": [
    "#One hot encode the labels and store as numpy array\n",
    "y = []\n",
    "for surface in data['surface'].values:\n",
    "    if surface == 'carpet':\n",
    "        y.append([1,0,0,0,0,0,0,0,0])\n",
    "    elif surface == 'concrete':\n",
    "        y.append([0,1,0,0,0,0,0,0,0])\n",
    "    elif surface == 'fine_concrete':\n",
    "        y.append([0,0,1,0,0,0,0,0,0])\n",
    "    elif surface == 'hard_tiles':\n",
    "        y.append([0,0,0,1,0,0,0,0,0])\n",
    "    elif surface == 'hard_tiles_large_space':\n",
    "        y.append([0,0,0,0,1,0,0,0,0])\n",
    "    elif surface == 'soft_pvc':\n",
    "        y.append([0,0,0,0,0,1,0,0,0])\n",
    "    elif surface == 'soft_tiles':\n",
    "        y.append([0,0,0,0,0,0,1,0,0])\n",
    "    elif surface == 'tiled':\n",
    "        y.append([0,0,0,0,0,0,0,1,0])\n",
    "    elif surface == 'wood':\n",
    "        y.append([0,0,0,0,0,0,0,0,1])\n",
    "y = np.array(y)\n",
    "y.shape"
   ]
  },
  {
   "cell_type": "code",
   "execution_count": 21,
   "metadata": {},
   "outputs": [
    {
     "data": {
      "text/plain": [
       "(487680, 13)"
      ]
     },
     "execution_count": 21,
     "metadata": {},
     "output_type": "execute_result"
    }
   ],
   "source": [
    "X = data.drop(['surface','row_id','series_id', 'measurement_number'], axis=1).values\n",
    "X.shape"
   ]
  },
  {
   "cell_type": "code",
   "execution_count": 22,
   "metadata": {},
   "outputs": [],
   "source": [
    "#Standardize the training data before using model\n",
    "from sklearn.preprocessing import StandardScaler\n",
    "scaler = StandardScaler()\n",
    "X = scaler.fit_transform(X)"
   ]
  },
  {
   "cell_type": "code",
   "execution_count": 23,
   "metadata": {},
   "outputs": [],
   "source": [
    "model = Sequential()\n",
    "model.add(Dense(512, input_dim=13, activation='relu'))\n",
    "model.add(Dense(512,  activation='relu'))\n",
    "model.add(BatchNormalization())\n",
    "model.add(Dense(256, activation='relu'))\n",
    "model.add(Dense(256, activation='relu'))\n",
    "model.add(BatchNormalization())\n",
    "model.add(Dense(128, activation='relu'))\n",
    "model.add(Dense(64, activation='relu'))\n",
    "model.add(Dense(32, activation='relu'))\n",
    "model.add(Dense(9, activation='softmax'))\n",
    "model.compile(loss='categorical_crossentropy', optimizer='adam', metrics=['accuracy'])"
   ]
  },
  {
   "cell_type": "code",
   "execution_count": 24,
   "metadata": {},
   "outputs": [
    {
     "name": "stdout",
     "output_type": "stream",
     "text": [
      "Train on 365760 samples, validate on 121920 samples\n",
      "Epoch 1/10\n",
      "365760/365760 [==============================] - 28s 78us/sample - loss: 0.6284 - acc: 0.7559 - val_loss: 0.5181 - val_acc: 0.7874\n",
      "Epoch 2/10\n",
      "365760/365760 [==============================] - 28s 78us/sample - loss: 0.4257 - acc: 0.8308 - val_loss: 0.4127 - val_acc: 0.8373\n",
      "Epoch 3/10\n",
      "365760/365760 [==============================] - 29s 78us/sample - loss: 0.3461 - acc: 0.8626 - val_loss: 0.3043 - val_acc: 0.8776\n",
      "Epoch 4/10\n",
      "365760/365760 [==============================] - 28s 77us/sample - loss: 0.2967 - acc: 0.8822 - val_loss: 0.2984 - val_acc: 0.8809\n",
      "Epoch 5/10\n",
      "365760/365760 [==============================] - 28s 77us/sample - loss: 0.2641 - acc: 0.8965 - val_loss: 0.2843 - val_acc: 0.8878\n",
      "Epoch 6/10\n",
      "365760/365760 [==============================] - 28s 78us/sample - loss: 0.2347 - acc: 0.9077 - val_loss: 0.2827 - val_acc: 0.8913\n",
      "Epoch 7/10\n",
      "365760/365760 [==============================] - 28s 78us/sample - loss: 0.2122 - acc: 0.9174 - val_loss: 0.1925 - val_acc: 0.9243\n",
      "Epoch 8/10\n",
      "365760/365760 [==============================] - 29s 78us/sample - loss: 0.1927 - acc: 0.9256 - val_loss: 0.2318 - val_acc: 0.9093\n",
      "Epoch 9/10\n",
      "365760/365760 [==============================] - 28s 78us/sample - loss: 0.1765 - acc: 0.9319 - val_loss: 0.2938 - val_acc: 0.9024\n",
      "Epoch 10/10\n",
      "365760/365760 [==============================] - 29s 78us/sample - loss: 0.1607 - acc: 0.9380 - val_loss: 0.1834 - val_acc: 0.9324\n"
     ]
    },
    {
     "data": {
      "text/plain": [
       "<tensorflow.python.keras.callbacks.History at 0xb37d6d048>"
      ]
     },
     "execution_count": 24,
     "metadata": {},
     "output_type": "execute_result"
    }
   ],
   "source": [
    "model.fit(X,y, epochs=10, batch_size=256, validation_split=0.25)"
   ]
  },
  {
   "cell_type": "markdown",
   "metadata": {},
   "source": [
    "Nice! So we achieved an accuracy of 93% on the validation set. Lets just double check our model is actually performing this well with some cross-validation."
   ]
  },
  {
   "cell_type": "markdown",
   "metadata": {},
   "source": [
    "# Model Evaluation"
   ]
  },
  {
   "cell_type": "code",
   "execution_count": 41,
   "metadata": {},
   "outputs": [
    {
     "name": "stdout",
     "output_type": "stream",
     "text": [
      "Performing Cross Validation...\n",
      "Cross-val score #1: accuracy = 0.945275604724884\n",
      "Cross-val score #2: accuracy = 0.9669537544250488\n",
      "Cross-val score #3: accuracy = 0.9750245809555054\n",
      "Cross-val score #4: accuracy = 0.9546424150466919\n",
      "Done Cross Validation!\n"
     ]
    }
   ],
   "source": [
    "from sklearn.model_selection import KFold\n",
    "kf = KFold(n_splits=4)\n",
    "kf.get_n_splits(X, y)\n",
    "i = 0\n",
    "print(\"Performing Cross Validation...\")\n",
    "for train_index, test_index in kf.split(X, y):\n",
    "    i+=1\n",
    "    X_train, X_test = X[train_index], X[test_index]\n",
    "    y_train, y_test = y[train_index], y[test_index]\n",
    "    model.fit(X_train, y_train, epochs=10, batch_size=256, verbose=0)\n",
    "    evaluation = model.evaluate(X_test, y_test, verbose=0)\n",
    "    print(\"Cross-val score #{}: accuracy = {}\".format(i, evaluation[1]))\n",
    "print(\"Done Cross Validation!\")"
   ]
  },
  {
   "cell_type": "code",
   "execution_count": 58,
   "metadata": {},
   "outputs": [
    {
     "name": "stdout",
     "output_type": "stream",
     "text": [
      "                        precision    recall  f1-score   support\n",
      "\n",
      "                carpet       0.99      0.96      0.97      5953\n",
      "              concrete       0.97      0.98      0.97     25029\n",
      "         fine_concrete       0.98      0.99      0.98     11623\n",
      "            hard_tiles       0.98      0.99      0.99       672\n",
      "hard_tiles_large_space       0.98      0.98      0.98      9847\n",
      "              soft_pvc       0.99      0.98      0.99     23300\n",
      "            soft_tiles       0.99      1.00      0.99      9397\n",
      "                 tiled       0.97      0.99      0.98     16547\n",
      "                  wood       0.98      0.96      0.97     19552\n",
      "\n",
      "             micro avg       0.98      0.98      0.98    121920\n",
      "             macro avg       0.98      0.98      0.98    121920\n",
      "          weighted avg       0.98      0.98      0.98    121920\n",
      "\n"
     ]
    }
   ],
   "source": [
    "#Precision and Recall scores\n",
    "from sklearn.model_selection import train_test_split\n",
    "from sklearn.metrics import classification_report\n",
    "\n",
    "target_names = ['carpet','concrete','fine_concrete',\n",
    "                'hard_tiles','hard_tiles_large_space','soft_pvc',\n",
    "                'soft_tiles','tiled','wood']\n",
    "\n",
    "X_train, X_test, y_train, y_test = train_test_split(X, y, test_size=0.25, random_state=42)\n",
    "model.fit(X_train,y_train, epochs=10, batch_size=256, verbose=0)\n",
    "predictions = model.predict_classes(X_test)\n",
    "labels = np.argmax(y_test,axis=1)\n",
    "print(classification_report(labels, predictions, target_names = target_names))"
   ]
  },
  {
   "cell_type": "markdown",
   "metadata": {},
   "source": [
    "Okay, so our model seems to be pretty good! Even though the dataset is uneven. All thats left is to use the model and submit our predictions!"
   ]
  }
 ],
 "metadata": {
  "kernelspec": {
   "display_name": "Python 3",
   "language": "python",
   "name": "python3"
  },
  "language_info": {
   "codemirror_mode": {
    "name": "ipython",
    "version": 3
   },
   "file_extension": ".py",
   "mimetype": "text/x-python",
   "name": "python",
   "nbconvert_exporter": "python",
   "pygments_lexer": "ipython3",
   "version": "3.6.8"
  }
 },
 "nbformat": 4,
 "nbformat_minor": 2
}
